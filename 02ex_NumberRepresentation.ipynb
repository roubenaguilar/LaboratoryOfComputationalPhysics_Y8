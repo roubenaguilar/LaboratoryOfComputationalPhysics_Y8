{
 "cells": [
  {
   "cell_type": "markdown",
   "metadata": {},
   "source": [
    "1\\. Write a function that converts number representation, bin<->dec<->hex. (Clearly using the corresponding python built-in functions is not fair..)"
   ]
  },
  {
   "cell_type": "code",
   "execution_count": 21,
   "metadata": {},
   "outputs": [
    {
     "name": "stdout",
     "output_type": "stream",
     "text": [
      "10000000000\n",
      "1024\n",
      "1024\n",
      "400\n",
      "1024\n"
     ]
    }
   ],
   "source": [
    "def dec2bin(n_dec):\n",
    "    \"\"\"Convert a decimal integer to its binary representation as a string.\"\"\"\n",
    "    if n_dec == 0:\n",
    "        return \"0\"\n",
    "    n_bin = \"\"\n",
    "    while n_dec > 0:\n",
    "        n_bin = str(n_dec % 2) + n_bin\n",
    "        n_dec = n_dec // 2\n",
    "    return n_bin\n",
    "\n",
    "def bin2dec(n_bin):\n",
    "    \"\"\"Convert a binary string to its decimal integer representation.\"\"\"\n",
    "    n_dec = 0\n",
    "    for i, digit in enumerate(reversed(n_bin)):\n",
    "        n_dec += int(digit) * (2 ** i)\n",
    "    return n_dec\n",
    "\n",
    "def dec2hex(n_dec):\n",
    "    \"\"\"Convert a decimal integer to its hexadecimal representation as a string.\"\"\"\n",
    "    if n_dec == 0:\n",
    "        return \"0\"\n",
    "    hex_chars = \"0123456789ABCDEF\"\n",
    "    n_hex = \"\"\n",
    "    while n_dec > 0:\n",
    "        n_hex = hex_chars[n_dec % 16] + n_hex\n",
    "        n_dec = n_dec // 16\n",
    "    return n_hex\n",
    "\n",
    "def hex2dec(n_hex):\n",
    "    \"\"\"Convert a hexadecimal string to its decimal integer representation.\"\"\"\n",
    "    hex_chars = \"0123456789ABCDEF\"\n",
    "    n_dec = 0\n",
    "    for i, digit in enumerate(reversed(n_hex)):\n",
    "        n_dec += hex_chars.index(digit.upper()) * (16 ** i)\n",
    "    return n_dec\n",
    "\n",
    "\n",
    "a = 1024\n",
    "b = dec2bin(a)\n",
    "n_a = bin2dec(b)\n",
    "print(b)\n",
    "print(a)\n",
    "print(n_a)\n",
    "\n",
    "c = dec2hex(a)\n",
    "n_ax = hex2dec(c)\n",
    "print(c)\n",
    "print(n_ax)"
   ]
  },
  {
   "cell_type": "markdown",
   "metadata": {},
   "source": [
    "2\\. Write a function that converts a 32 bit word into a single precision floating point (i.e. interprets the various bits as sign, mantissa and exponent)"
   ]
  },
  {
   "cell_type": "code",
   "execution_count": null,
   "metadata": {},
   "outputs": [
    {
     "name": "stdout",
     "output_type": "stream",
     "text": [
      "0\n",
      "2\n",
      "-1.25\n"
     ]
    }
   ],
   "source": [
    "word = \"101111111010000000000000000000000\"\n",
    "exponent = bin2dec(word[1:9]) - 127\n",
    "#print(exponent)\n",
    "mantissa = word[9:]\n",
    "mantissa = mantissa[::-1]\n",
    "mantissa_dec = bin2dec(mantissa)\n",
    "#print(mantissa_dec) \n",
    "n_float = (-1)**(float(word[0])) * (1 + 1/2**mantissa_dec) * 2**exponent\n",
    "print(n_float)"
   ]
  },
  {
   "cell_type": "markdown",
   "metadata": {},
   "source": [
    "3\\. Write a program to determine the underflow and overflow limits (within a factor of 2) for python on your computer. \n",
    "\n",
    "**Tips**: define two variables inizialized to 1 and halve/double them enough time to exceed the under/over-flow limits  "
   ]
  },
  {
   "cell_type": "code",
   "execution_count": 43,
   "metadata": {},
   "outputs": [
    {
     "name": "stdout",
     "output_type": "stream",
     "text": [
      "Overflow occurs at 2^ 1024\n",
      "Underflow occurs at 2^- 1075\n"
     ]
    }
   ],
   "source": [
    "over_variable = 1.0\n",
    "under_variable = 1.0\n",
    "counter_over = 0\n",
    "counter_under = 0   \n",
    "while over_variable < float('inf'):\n",
    "    over_variable = over_variable * 2\n",
    "    counter_over += 1\n",
    "\n",
    "print(\"Overflow occurs at 2^\", counter_over)\n",
    "\n",
    "while under_variable > 0.0:\n",
    "    under_variable = under_variable / 2\n",
    "    counter_under += 1\n",
    "\n",
    "print(\"Underflow occurs at 2^-\", counter_under)"
   ]
  },
  {
   "cell_type": "markdown",
   "metadata": {},
   "source": [
    "4\\. Write a program to determine the machine precision\n",
    "\n",
    "**Tips**: define a new variable by adding a smaller and smaller value (proceeding similarly to prob. 2) to an original variable and check the point where the two are the same "
   ]
  },
  {
   "cell_type": "code",
   "execution_count": 73,
   "metadata": {},
   "outputs": [
    {
     "name": "stdout",
     "output_type": "stream",
     "text": [
      "Precision limit reached at + 2^- 53\n"
     ]
    }
   ],
   "source": [
    "original_value = 1.0\n",
    "new_value = original_value + 1.0\n",
    "counter = 0\n",
    "while new_value != original_value:\n",
    "    counter += 1\n",
    "    new_value = original_value + 1.0 / (2 ** counter)\n",
    "    \n",
    "print(\"Precision limit reached at + 2^-\", counter)"
   ]
  },
  {
   "cell_type": "markdown",
   "metadata": {},
   "source": [
    "5\\. Write a function that takes in input three parameters $a$, $b$ and $c$ and prints out the two solutions to the quadratic equation $ax^2+bx+c=0$ using the standard formula:\n",
    "$$\n",
    "x=\\frac{-b\\pm\\sqrt{b^2-4ac}}{2a}\n",
    "$$\n",
    "\n",
    "(a) use the program to compute the solution for $a=0.001$, $b=1000$ and $c=0.001$\n",
    "\n",
    "(b) re-express the standard solution formula by multiplying top and bottom by $-b\\mp\\sqrt{b^2-4ac}$ and again find the solution for $a=0.001$, $b=1000$ and $c=0.001$. How does it compare with what previously obtained? Why?\n",
    "\n",
    "(c) write a function that compute the roots of a quadratic equation accurately in all cases"
   ]
  },
  {
   "cell_type": "code",
   "execution_count": 88,
   "metadata": {},
   "outputs": [
    {
     "name": "stdout",
     "output_type": "stream",
     "text": [
      "(-9.999894245993346e-07, -999999.999999)\n",
      "(-1.000000000001e-06, -1000010.5755125057)\n",
      "(-1.000000000001e-06, -999999.999999)\n"
     ]
    }
   ],
   "source": [
    "from math import sqrt\n",
    "\n",
    "def solve_quadratic(a, b, c):\n",
    "    x1 = (-b + sqrt(b**2 - 4*a*c)) / (2*a)\n",
    "    x2 = (-b - sqrt(b**2 - 4*a*c)) / (2*a)\n",
    "    return x1, x2\n",
    "\n",
    "a = 0.001\n",
    "b = 1000\n",
    "c = 0.001\n",
    "print(solve_quadratic(a, b, c))\n",
    "\n",
    "def solve_quadratic2(a, b, c):\n",
    "    x1 = 2*c / (-b - sqrt(b**2 - 4*a*c))\n",
    "    x2 = 2*c / (-b + sqrt(b**2 - 4*a*c))\n",
    "    return x1, x2\n",
    "\n",
    "print(solve_quadratic2(a, b, c))\n",
    "\n",
    "def quadratic_accurate(a, b, c):\n",
    "    d = sqrt(b**2 - 4*a*c)\n",
    "    if b >= 0:\n",
    "        q = -0.5 * (b + d)\n",
    "    else:\n",
    "        q = -0.5 * (b - d)\n",
    "    x1 = q / a\n",
    "    x2 = c / q\n",
    "    return x2, x1\n",
    "\n",
    "print(quadratic_accurate(a, b, c))"
   ]
  },
  {
   "cell_type": "markdown",
   "metadata": {},
   "source": [
    "6\\. Write a program that implements the function $f(x)=x(x−1)$\n",
    "\n",
    "(a) Calculate the derivative of the function at the point $x = 1$ using the derivative definition:\n",
    "\n",
    "$$\n",
    "\\frac{{\\rm d}f}{{\\rm d}x} = \\lim_{\\delta\\to0} \\frac{f(x+\\delta)-f(x)}{\\delta}\n",
    "$$\n",
    "\n",
    "with $\\delta = 10^{−2}$. Calculate the true value of the same derivative analytically and compare with the answer your program gives. The two will not agree perfectly. Why not?\n",
    "\n",
    "(b) Repeat the calculation for $\\delta = 10^{−4}, 10^{−6}, 10^{−8}, 10^{−10}, 10^{−12}$ and $10^{−14}$. How does the accuracy scales with $\\delta$?"
   ]
  },
  {
   "cell_type": "code",
   "execution_count": 104,
   "metadata": {},
   "outputs": [
    {
     "name": "stdout",
     "output_type": "stream",
     "text": [
      "Numerical derivative: 1.010000000000001\n",
      "Numerical derivative: 1.0000999999998899\n",
      "Numerical derivative: 1.0000009999177333\n",
      "Numerical derivative: 1.0000000039225287\n",
      "Numerical derivative: 1.000000082840371\n",
      "Numerical derivative: 0.9992007221626509\n"
     ]
    }
   ],
   "source": [
    "def f(x):\n",
    "    return x*(x-1)\n",
    "def num_df_dx(x,h):\n",
    "    return (f(x + h) - f(x)) / (h)\n",
    "\n",
    "print(\"Numerical derivative:\", num_df_dx(1.0,1e-2))\n",
    "print(\"Numerical derivative:\", num_df_dx(1.0,1e-4))\n",
    "print(\"Numerical derivative:\", num_df_dx(1.0,1e-6))\n",
    "print(\"Numerical derivative:\", num_df_dx(1.0,1e-8))\n",
    "print(\"Numerical derivative:\", num_df_dx(1.0,1e-10))\n",
    "print(\"Numerical derivative:\", num_df_dx(1.0,1e-14))"
   ]
  },
  {
   "cell_type": "markdown",
   "metadata": {},
   "source": [
    "7\\. Consider the integral of the semicircle of radius 1:\n",
    "$$\n",
    "I=\\int_{-1}^{1} \\sqrt(1-x^2) {\\rm d}x\n",
    "$$\n",
    "which it's known to be $I=\\frac{\\pi}{2}=1.57079632679...$.\n",
    "Alternatively we can use the Riemann definition of the integral:\n",
    "$$\n",
    "I=\\lim_{N\\to\\infty} \\sum_{k=1}^{N} h y_k \n",
    "$$\n",
    "\n",
    "with $h=2/N$ the width of each of the $N$ slices the domain is divided into and where\n",
    "$y_k$ is the value of the function at the $k-$th slice.\n",
    "\n",
    "(a) Write a programe to compute the integral with $N=100$. How does the result compares to the true value?\n",
    "\n",
    "(b) How much can $N$ be increased if the computation needs to be run in less than a second? What is the gain in running it for 1 minute? \n"
   ]
  },
  {
   "cell_type": "code",
   "execution_count": 118,
   "metadata": {},
   "outputs": [
    {
     "name": "stdout",
     "output_type": "stream",
     "text": [
      "Approximate value of the integral: 1.5691342555492498\n"
     ]
    }
   ],
   "source": [
    "import numpy as np\n",
    "N = 100\n",
    "#N = 2**20\n",
    "L = 2\n",
    "dx = L / N\n",
    "xs = np.array(range(-int(N//2), int(N//2) +1)) * dx\n",
    "\n",
    "integral = sum(np.sqrt(1 - xs**2)) * dx\n",
    "print(\"Approximate value of the integral:\", integral)"
   ]
  },
  {
   "cell_type": "markdown",
   "metadata": {},
   "source": [
    "a) There is a little error since the second decimal, but it could be a good approximation\n",
    "\n",
    "b) N can increase a lot 2^20, for example. There is not much to gain running it for 1 minute, sure you may get the first 20 decimals in 30 seconds, after that there is a risk to get an error from the computer presision itself"
   ]
  }
 ],
 "metadata": {
  "kernelspec": {
   "display_name": "base",
   "language": "python",
   "name": "python3"
  },
  "language_info": {
   "codemirror_mode": {
    "name": "ipython",
    "version": 3
   },
   "file_extension": ".py",
   "mimetype": "text/x-python",
   "name": "python",
   "nbconvert_exporter": "python",
   "pygments_lexer": "ipython3",
   "version": "3.13.5"
  }
 },
 "nbformat": 4,
 "nbformat_minor": 2
}
